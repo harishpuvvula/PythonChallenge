{
 "cells": [
  {
   "cell_type": "code",
   "execution_count": null,
   "id": "57df2e82-8f99-49db-8f64-8e9869529823",
   "metadata": {},
   "outputs": [],
   "source": [
    "\"\"\" \n",
    "First day of thirty day python challenge.\n",
    "This program reads names and the age of the users and publishes how long before they turn 100.\n",
    "\"\"\""
   ]
  },
  {
   "cell_type": "code",
   "execution_count": 12,
   "id": "9b0a3d87-2987-4bd0-95c4-1d36ed4669d4",
   "metadata": {},
   "outputs": [
    {
     "name": "stdout",
     "output_type": "stream",
     "text": [
      "What is user name\n"
     ]
    },
    {
     "name": "stdin",
     "output_type": "stream",
     "text": [
      "None Harish\n"
     ]
    },
    {
     "name": "stdout",
     "output_type": "stream",
     "text": [
      "What is your age\n"
     ]
    },
    {
     "name": "stdin",
     "output_type": "stream",
     "text": [
      "None 23\n"
     ]
    },
    {
     "name": "stdout",
     "output_type": "stream",
     "text": [
      "Harish, You will be 100 in 77 years\n"
     ]
    }
   ],
   "source": [
    "user_name =input (print(\"What is user name\"))\n",
    "age =  int (input (print(\"What is your age\")))\n",
    "if age > 100:\n",
    "    print(\"You have already scored a century\")\n",
    "else:\n",
    "    print (f\"{user_name}, You will be 100 in {100-age } years\")\n"
   ]
  },
  {
   "cell_type": "code",
   "execution_count": null,
   "id": "50788b39-1c5f-4fa8-a186-ff118015ba9b",
   "metadata": {},
   "outputs": [],
   "source": []
  },
  {
   "cell_type": "code",
   "execution_count": null,
   "id": "647ba814-d5c3-40b9-97d4-7f687daecd5c",
   "metadata": {},
   "outputs": [],
   "source": []
  }
 ],
 "metadata": {
  "kernelspec": {
   "display_name": "Python 3 (ipykernel)",
   "language": "python",
   "name": "python3"
  },
  "language_info": {
   "codemirror_mode": {
    "name": "ipython",
    "version": 3
   },
   "file_extension": ".py",
   "mimetype": "text/x-python",
   "name": "python",
   "nbconvert_exporter": "python",
   "pygments_lexer": "ipython3",
   "version": "3.11.9"
  }
 },
 "nbformat": 4,
 "nbformat_minor": 5
}
